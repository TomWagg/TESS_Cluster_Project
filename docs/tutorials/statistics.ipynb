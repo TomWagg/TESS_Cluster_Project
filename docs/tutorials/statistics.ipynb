{
 "cells": [
  {
   "cell_type": "raw",
   "id": "88b5566b",
   "metadata": {
    "raw_mimetype": "text/restructuredtext",
    "tags": []
   },
   "source": [
    "*********************************\n",
    "Calculating Lightcurve Statistics\n",
    "*********************************\n",
    "\n",
    "Intro"
   ]
  },
  {
   "cell_type": "markdown",
   "id": "bfc7bbd8",
   "metadata": {},
   "source": [
    "We can start by importing our favourite package: ``elk``!"
   ]
  },
  {
   "cell_type": "code",
   "execution_count": 1,
   "id": "2b2d228a",
   "metadata": {},
   "outputs": [],
   "source": [
    "import elk\n",
    "import numpy as np\n",
    "\n",
    "%config InlineBackend.figure_format = \"retina\" # Not required, only applicable for Jupyter Notebooks"
   ]
  },
  {
   "cell_type": "markdown",
   "id": "9fe09a83",
   "metadata": {},
   "source": [
    "## Lightcurve Setup"
   ]
  },
  {
   "cell_type": "markdown",
   "id": "6a21627e",
   "metadata": {},
   "source": [
    "Now let's do a simple ensemble lightcurve fit to NGC 419"
   ]
  },
  {
   "cell_type": "code",
   "execution_count": 2,
   "id": "4388482e",
   "metadata": {},
   "outputs": [
    {
     "name": "stdout",
     "output_type": "stream",
     "text": [
      "Found previously corrected data for this target, loading it! (Set `ignore_previous_downloads=True` to ignore data)\n"
     ]
    }
   ],
   "source": [
    "c = elk.ensemble.EnsembleLC(output_path='.',\n",
    "                            identifier='NGC 419',\n",
    "                            location='23.58271, +61.1236',\n",
    "                            radius=.046,\n",
    "                            cluster_age=7.75,\n",
    "                            cutout_size=25,\n",
    "                            verbose=True,\n",
    "                            minimize_memory=False)"
   ]
  },
  {
   "cell_type": "code",
   "execution_count": 3,
   "id": "0c9f6dfa",
   "metadata": {},
   "outputs": [],
   "source": [
    "c.create_output_table()"
   ]
  },
  {
   "cell_type": "markdown",
   "id": "4aea967a",
   "metadata": {},
   "source": [
    "## Accessing statistics"
   ]
  },
  {
   "cell_type": "markdown",
   "id": "8378ca69",
   "metadata": {},
   "source": [
    "Now that we've run that we can use the output to start analysing some statistics about the lightcurves that we've created. Let's pick one of them out."
   ]
  },
  {
   "cell_type": "code",
   "execution_count": 4,
   "id": "3f72bc19",
   "metadata": {},
   "outputs": [],
   "source": [
    "lc = c.lcs[1]"
   ]
  },
  {
   "cell_type": "markdown",
   "id": "2040cb10",
   "metadata": {},
   "source": [
    "This lightcurve has access to the many functions within ``elk.stats`` and we can easily access them. For the statistics that don't require inputs, you can simply access them as attributes."
   ]
  },
  {
   "cell_type": "code",
   "execution_count": 5,
   "id": "41a28a94",
   "metadata": {},
   "outputs": [
    {
     "data": {
      "text/plain": [
       "(1.0000016049520466, 0.0015233166508613575)"
      ]
     },
     "execution_count": 5,
     "metadata": {},
     "output_type": "execute_result"
    }
   ],
   "source": [
    "lc.rms, lc.von_neumann_ratio"
   ]
  },
  {
   "cell_type": "markdown",
   "id": "d47bc7d7",
   "metadata": {},
   "source": [
    "Similarly, for statistics that could get some input you can access them as class methods like this"
   ]
  },
  {
   "cell_type": "code",
   "execution_count": 6,
   "id": "581eea8a",
   "metadata": {},
   "outputs": [
    {
     "data": {
      "text/plain": [
       "1.180373079737571"
      ]
     },
     "execution_count": 6,
     "metadata": {},
     "output_type": "execute_result"
    }
   ],
   "source": [
    "lc.J_stetson()"
   ]
  },
  {
   "cell_type": "markdown",
   "id": "c644aa0b",
   "metadata": {},
   "source": [
    "Some of the statistics also _require_ input, like when you create a periodogram"
   ]
  },
  {
   "cell_type": "code",
   "execution_count": 7,
   "id": "bb908ebe",
   "metadata": {},
   "outputs": [
    {
     "data": {
      "text/plain": [
       "2"
      ]
     },
     "execution_count": 7,
     "metadata": {},
     "output_type": "execute_result"
    }
   ],
   "source": [
    "frequencies = np.logspace(-1, 1, 100)\n",
    "_ = lc.to_periodogram(frequencies=frequencies, n_bootstrap=10)\n",
    "lc.stats[\"n_peaks\"]"
   ]
  },
  {
   "cell_type": "markdown",
   "id": "50ad5f04",
   "metadata": {},
   "source": [
    "## Summarising Statistics"
   ]
  },
  {
   "cell_type": "markdown",
   "id": "461527dc",
   "metadata": {},
   "source": [
    "As you may have noticed in the last cell, each of the statistics has been tracks in a dictionary within the class to save you running them again. You can access this dictionary like this"
   ]
  },
  {
   "cell_type": "code",
   "execution_count": 8,
   "id": "7eac41cc",
   "metadata": {},
   "outputs": [
    {
     "data": {
      "text/plain": [
       "{'rms': 1.0000016049520466,\n",
       " 'von_neumann_ratio': 0.0015233166508613575,\n",
       " 'J_Stetson': 1.180373079737571,\n",
       " 'max_power': 0.07499023441332353,\n",
       " 'freq_at_max_power': 0.8111308307896873,\n",
       " 'peak_freqs': array([0.40370173, 0.81113083, 0.        , 0.        , 0.        ,\n",
       "        0.        , 0.        , 0.        , 0.        , 0.        ,\n",
       "        0.        , 0.        , 0.        , 0.        , 0.        ,\n",
       "        0.        , 0.        , 0.        , 0.        , 0.        ,\n",
       "        0.        , 0.        , 0.        , 0.        , 0.        ]),\n",
       " 'peak_left_edge': array([0.38535286, 0.77426368]),\n",
       " 'peak_right_edge': array([0.44306215, 0.84975344]),\n",
       " 'power_at_peaks': array([0.0332806 , 0.07156373, 0.        , 0.        , 0.        ,\n",
       "        0.        , 0.        , 0.        , 0.        , 0.        ,\n",
       "        0.        , 0.        , 0.        , 0.        , 0.        ,\n",
       "        0.        , 0.        , 0.        , 0.        , 0.        ,\n",
       "        0.        , 0.        , 0.        , 0.        , 0.        ]),\n",
       " 'n_peaks': 2,\n",
       " 'ratio_of_power_at_high_v_low_freq': 6.380289065258562,\n",
       " 'FAP': 4.808457529110221e-17}"
      ]
     },
     "execution_count": 8,
     "metadata": {},
     "output_type": "execute_result"
    }
   ],
   "source": [
    "lc.stats"
   ]
  },
  {
   "cell_type": "markdown",
   "id": "427acc80",
   "metadata": {},
   "source": [
    "You can also turn this into an Astropy table for aggregation with other lightcurves"
   ]
  },
  {
   "cell_type": "code",
   "execution_count": 9,
   "id": "efb3bf85",
   "metadata": {},
   "outputs": [
    {
     "data": {
      "text/html": [
       "<div><i>Table length=1</i>\n",
       "<table id=\"table140629602698432\" class=\"table-striped table-bordered table-condensed\">\n",
       "<thead><tr><th>name</th><th>rms</th><th>von_neumann_ratio</th><th>J_Stetson</th><th>max_power</th><th>freq_at_max_power</th><th>peak_freqs</th><th>peak_left_edge</th><th>peak_right_edge</th><th>power_at_peaks</th><th>n_peaks</th><th>ratio_of_power_at_high_v_low_freq</th><th>FAP</th></tr></thead>\n",
       "<thead><tr><th>str7</th><th>float64</th><th>float64</th><th>float64</th><th>float64</th><th>float64</th><th>float64[25]</th><th>float64[2]</th><th>float64[2]</th><th>float64[25]</th><th>int64</th><th>float64</th><th>float64</th></tr></thead>\n",
       "<tr><td>NGC 419</td><td>1.0000016049520466</td><td>0.0015233166508613575</td><td>1.180373079737571</td><td>0.07499023441332353</td><td>0.8111308307896873</td><td>0.40370172585965547 .. 0.0</td><td>0.38535285937105296 .. 0.7742636826811272</td><td>0.4430621457583881 .. 0.8497534359086445</td><td>0.03328060220399152 .. 0.0</td><td>2</td><td>6.380289065258562</td><td>4.808457529110221e-17</td></tr>\n",
       "</table></div>"
      ],
      "text/plain": [
       "<Table length=1>\n",
       "  name         rms         ...          FAP         \n",
       "  str7       float64       ...        float64       \n",
       "------- ------------------ ... ---------------------\n",
       "NGC 419 1.0000016049520466 ... 4.808457529110221e-17"
      ]
     },
     "execution_count": 9,
     "metadata": {},
     "output_type": "execute_result"
    }
   ],
   "source": [
    "lc.get_stats_table(name=c.identifier)"
   ]
  },
  {
   "cell_type": "markdown",
   "id": "6c5adb2f",
   "metadata": {},
   "source": [
    "## The Kitchen Sink"
   ]
  },
  {
   "cell_type": "markdown",
   "id": "873da784",
   "metadata": {},
   "source": [
    "If you're in an instance in which you want to get every statistic for the lightcurve quickly, you can run them all **using default settings** as follows"
   ]
  },
  {
   "cell_type": "code",
   "execution_count": 10,
   "id": "9a7fad33",
   "metadata": {},
   "outputs": [
    {
     "data": {
      "text/plain": [
       "{'rms': 0.11711626158441998,\n",
       " 'von_neumann_ratio': 0.0015233166508613575,\n",
       " 'J_Stetson': 1.180373079737571,\n",
       " 'max_power': 0.08294441309037068,\n",
       " 'freq_at_max_power': 0.8100000000000002,\n",
       " 'peak_freqs': array([0.41, 0.59, 0.81, 1.  , 5.5 , 0.  , 0.  , 0.  , 0.  , 0.  , 0.  ,\n",
       "        0.  , 0.  , 0.  , 0.  , 0.  , 0.  , 0.  , 0.  , 0.  , 0.  , 0.  ,\n",
       "        0.  , 0.  , 0.  ]),\n",
       " 'peak_left_edge': array([0.38, 0.57, 0.78, 0.98, 5.48]),\n",
       " 'peak_right_edge': array([0.43, 0.61, 0.83, 1.02, 5.52]),\n",
       " 'power_at_peaks': array([0.02950098, 0.02151801, 0.07478357, 0.05293933, 0.01842161,\n",
       "        0.        , 0.        , 0.        , 0.        , 0.        ,\n",
       "        0.        , 0.        , 0.        , 0.        , 0.        ,\n",
       "        0.        , 0.        , 0.        , 0.        , 0.        ,\n",
       "        0.        , 0.        , 0.        , 0.        , 0.        ]),\n",
       " 'n_peaks': 5,\n",
       " 'ratio_of_power_at_high_v_low_freq': 3.7129360483884826,\n",
       " 'FAP': 2.606125809576982e-19,\n",
       " 'std': 0.00018255746218046428,\n",
       " 'MAD': 0.00010001194598291407,\n",
       " 'sigmaG': 0.00014876941268081152,\n",
       " 'skewness': 3926.4998108386076,\n",
       " 'max_autocorrelation': 0.22151919044721688,\n",
       " 'time_of_max_autocorrelation': array([5.08331299])}"
      ]
     },
     "execution_count": 10,
     "metadata": {},
     "output_type": "execute_result"
    }
   ],
   "source": [
    "lc.get_stats_using_defaults()"
   ]
  },
  {
   "cell_type": "markdown",
   "id": "6348a4f1",
   "metadata": {},
   "source": [
    "We recommend caution when using this function since the default settings may not be the best ones for you!\n",
    "\n",
    "Now when converting back to a table we can see _every_ statistic"
   ]
  },
  {
   "cell_type": "code",
   "execution_count": 11,
   "id": "3b25c7ec",
   "metadata": {},
   "outputs": [
    {
     "data": {
      "text/html": [
       "<div><i>Table length=1</i>\n",
       "<table id=\"table140629593812768\" class=\"table-striped table-bordered table-condensed\">\n",
       "<thead><tr><th>name</th><th>rms</th><th>von_neumann_ratio</th><th>J_Stetson</th><th>max_power</th><th>freq_at_max_power</th><th>peak_freqs</th><th>peak_left_edge</th><th>peak_right_edge</th><th>power_at_peaks</th><th>n_peaks</th><th>ratio_of_power_at_high_v_low_freq</th><th>FAP</th><th>std</th><th>MAD</th><th>sigmaG</th><th>skewness</th><th>max_autocorrelation</th><th>time_of_max_autocorrelation</th></tr></thead>\n",
       "<thead><tr><th>str7</th><th>float64</th><th>float64</th><th>float64</th><th>float64</th><th>float64</th><th>float64[25]</th><th>float64[5]</th><th>float64[5]</th><th>float64[25]</th><th>int64</th><th>float64</th><th>float64</th><th>float64</th><th>float64</th><th>float64</th><th>float64</th><th>float64</th><th>float64[1]</th></tr></thead>\n",
       "<tr><td>NGC 419</td><td>0.11711626158441998</td><td>0.0015233166508613575</td><td>1.180373079737571</td><td>0.08294441309037068</td><td>0.8100000000000002</td><td>0.41000000000000003 .. 0.0</td><td>0.38000000000000006 .. 5.480000000000001</td><td>0.43000000000000005 .. 5.520000000000001</td><td>0.029500978528888923 .. 0.0</td><td>5</td><td>3.7129360483884826</td><td>2.606125809576982e-19</td><td>0.00018255746218046428</td><td>0.00010001194598291407</td><td>0.00014876941268081152</td><td>3926.4998108386076</td><td>0.22151919044721688</td><td>5.08331298828125</td></tr>\n",
       "</table></div>"
      ],
      "text/plain": [
       "<Table length=1>\n",
       "  name          rms         ... time_of_max_autocorrelation\n",
       "  str7        float64       ...          float64[1]        \n",
       "------- ------------------- ... ---------------------------\n",
       "NGC 419 0.11711626158441998 ...            5.08331298828125"
      ]
     },
     "execution_count": 11,
     "metadata": {},
     "output_type": "execute_result"
    }
   ],
   "source": [
    "lc.get_stats_table(name=c.identifier)"
   ]
  }
 ],
 "metadata": {
  "kernelspec": {
   "display_name": "Python 3 (ipykernel)",
   "language": "python",
   "name": "python3"
  },
  "language_info": {
   "codemirror_mode": {
    "name": "ipython",
    "version": 3
   },
   "file_extension": ".py",
   "mimetype": "text/x-python",
   "name": "python",
   "nbconvert_exporter": "python",
   "pygments_lexer": "ipython3",
   "version": "3.10.9"
  }
 },
 "nbformat": 4,
 "nbformat_minor": 5
}
