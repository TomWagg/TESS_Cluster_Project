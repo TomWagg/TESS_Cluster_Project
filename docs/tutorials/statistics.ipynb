{
 "cells": [
  {
   "cell_type": "raw",
   "id": "88b5566b",
   "metadata": {
    "raw_mimetype": "text/restructuredtext",
    "tags": []
   },
   "source": [
    "*********************************\n",
    "Calculating Lightcurve Statistics\n",
    "*********************************\n",
    "\n",
    "Intro"
   ]
  },
  {
   "attachments": {},
   "cell_type": "markdown",
   "id": "bfc7bbd8",
   "metadata": {},
   "source": [
    "We can start by importing our favourite package: ``elk``!"
   ]
  },
  {
   "cell_type": "code",
   "execution_count": 21,
   "id": "2b2d228a",
   "metadata": {},
   "outputs": [],
   "source": [
    "import elk\n",
    "import numpy as np\n",
    "\n",
    "%config InlineBackend.figure_format = \"retina\""
   ]
  },
  {
   "attachments": {},
   "cell_type": "markdown",
   "id": "9fe09a83",
   "metadata": {},
   "source": [
    "## Lightcurve Setup"
   ]
  },
  {
   "attachments": {},
   "cell_type": "markdown",
   "id": "6a21627e",
   "metadata": {},
   "source": [
    "Now let's do a simple ensemble lightcurve fit to NGC 419"
   ]
  },
  {
   "cell_type": "code",
   "execution_count": 22,
   "id": "4388482e",
   "metadata": {},
   "outputs": [],
   "source": [
    "c = elk.ensemble.EnsembleLC(output_path=None,\n",
    "                            cluster_name='NGC 419',\n",
    "                            location='23.58271, +61.1236',\n",
    "                            radius=.046,\n",
    "                            cluster_age=7.75,\n",
    "                            cutout_size=10,\n",
    "                            debug=True,\n",
    "                            verbose=True,\n",
    "                            no_lk_cache=False)"
   ]
  },
  {
   "cell_type": "code",
   "execution_count": 23,
   "id": "0c9f6dfa",
   "metadata": {},
   "outputs": [
    {
     "name": "stdout",
     "output_type": "stream",
     "text": [
      "NGC 419 has 4 observations\n",
      "Starting Quality Tests for Observation: 0\n",
      "Failed Near Edge Test\n",
      "Starting Quality Tests for Observation: 1\n"
     ]
    },
    {
     "name": "stderr",
     "output_type": "stream",
     "text": [
      "100%|██████████| 100/100 [00:02<00:00, 44.64it/s]\n"
     ]
    },
    {
     "name": "stdout",
     "output_type": "stream",
     "text": [
      "1 Passed Quality Tests\n",
      "Starting Quality Tests for Observation: 2\n"
     ]
    },
    {
     "name": "stderr",
     "output_type": "stream",
     "text": [
      "100%|██████████| 100/100 [00:02<00:00, 33.94it/s]\n"
     ]
    },
    {
     "name": "stdout",
     "output_type": "stream",
     "text": [
      "2 Passed Quality Tests\n",
      "Starting Quality Tests for Observation: 3\n",
      "Failed Near Edge Test\n"
     ]
    },
    {
     "data": {
      "text/html": [
       "<div><i>Table length=1</i>\n",
       "<table id=\"table139968795310496\" class=\"table-striped table-bordered table-condensed\">\n",
       "<thead><tr><th>name</th><th>location</th><th>radius</th><th>log_age</th><th>has_data</th><th>n_obs</th><th>n_good_obs</th><th>n_failed_download</th><th>n_near_edge</th><th>n_scatter_light</th><th>lc_lens</th><th>which_sectors_good</th></tr></thead>\n",
       "<thead><tr><th>str7</th><th>str18</th><th>float64</th><th>float64</th><th>bool</th><th>int64</th><th>int64</th><th>int64</th><th>int64</th><th>int64</th><th>int64[2]</th><th>int64[2]</th></tr></thead>\n",
       "<tr><td>NGC 419</td><td>23.58271, +61.1236</td><td>0.046</td><td>7.75</td><td>True</td><td>4</td><td>2</td><td>0</td><td>2</td><td>0</td><td>1196 .. 3351</td><td>2 .. 27</td></tr>\n",
       "</table></div>"
      ],
      "text/plain": [
       "<Table length=1>\n",
       "  name       location       radius ...   lc_lens    which_sectors_good\n",
       "  str7        str18        float64 ...   int64[2]        int64[2]     \n",
       "------- ------------------ ------- ... ------------ ------------------\n",
       "NGC 419 23.58271, +61.1236   0.046 ... 1196 .. 3351            2 .. 27"
      ]
     },
     "execution_count": 23,
     "metadata": {},
     "output_type": "execute_result"
    }
   ],
   "source": [
    "c.create_output_table()"
   ]
  },
  {
   "attachments": {},
   "cell_type": "markdown",
   "id": "4aea967a",
   "metadata": {},
   "source": [
    "## Accessing statistics"
   ]
  },
  {
   "attachments": {},
   "cell_type": "markdown",
   "id": "8378ca69",
   "metadata": {},
   "source": [
    "Now that we've run that we can use the output to start analysing some statistics about the lightcurves that we've created. Let's pick one of them out."
   ]
  },
  {
   "cell_type": "code",
   "execution_count": 24,
   "id": "3f72bc19",
   "metadata": {},
   "outputs": [],
   "source": [
    "lc = c.lcs[2]"
   ]
  },
  {
   "attachments": {},
   "cell_type": "markdown",
   "id": "2040cb10",
   "metadata": {},
   "source": [
    "This lightcurve has access to the many functions within ``elk.stats`` and we can easily access them. For the statistics that don't require inputs, you can simply access them as attributes."
   ]
  },
  {
   "cell_type": "code",
   "execution_count": 25,
   "id": "41a28a94",
   "metadata": {},
   "outputs": [
    {
     "data": {
      "text/plain": [
       "(0.9999983, 0.00017164927292955188)"
      ]
     },
     "execution_count": 25,
     "metadata": {},
     "output_type": "execute_result"
    }
   ],
   "source": [
    "lc.rms, lc.von_neumann_ratio"
   ]
  },
  {
   "attachments": {},
   "cell_type": "markdown",
   "id": "d47bc7d7",
   "metadata": {},
   "source": [
    "Similarly, for statistics that could get some input you can access them as class methods like this"
   ]
  },
  {
   "cell_type": "code",
   "execution_count": 26,
   "id": "581eea8a",
   "metadata": {},
   "outputs": [
    {
     "data": {
      "text/plain": [
       "0.6518914852746158"
      ]
     },
     "execution_count": 26,
     "metadata": {},
     "output_type": "execute_result"
    }
   ],
   "source": [
    "lc.J_stetson()"
   ]
  },
  {
   "attachments": {},
   "cell_type": "markdown",
   "id": "c644aa0b",
   "metadata": {},
   "source": [
    "Some of the statistics also _require_ input, like when you create a periodogram"
   ]
  },
  {
   "cell_type": "code",
   "execution_count": 27,
   "id": "bb908ebe",
   "metadata": {},
   "outputs": [
    {
     "data": {
      "text/plain": [
       "2"
      ]
     },
     "execution_count": 27,
     "metadata": {},
     "output_type": "execute_result"
    }
   ],
   "source": [
    "frequencies = np.logspace(-1, 1, 100)\n",
    "_ = lc.to_periodogram(frequencies=frequencies, n_bootstrap=10)\n",
    "lc.stats[\"n_peaks\"]"
   ]
  },
  {
   "attachments": {},
   "cell_type": "markdown",
   "id": "50ad5f04",
   "metadata": {},
   "source": [
    "## Summarising Statistics"
   ]
  },
  {
   "attachments": {},
   "cell_type": "markdown",
   "id": "461527dc",
   "metadata": {},
   "source": [
    "As you may have noticed in the last cell, each of the statistics has been tracks in a dictionary within the class to save you running them again. You can access this dictionary like this"
   ]
  },
  {
   "cell_type": "code",
   "execution_count": 28,
   "id": "7eac41cc",
   "metadata": {},
   "outputs": [
    {
     "data": {
      "text/plain": [
       "{'rms': 0.9999983,\n",
       " 'von_neumann_ratio': 0.00017164927292955188,\n",
       " 'J_Stetson': 0.6518914852746158,\n",
       " 'max_power': 0.007725125075032853,\n",
       " 'freq_at_max_power': 1.2328467394420666,\n",
       " 'peak_freqs': array([0.97700996, 1.23284674, 0.        , 0.        , 0.        ,\n",
       "        0.        , 0.        , 0.        , 0.        , 0.        ,\n",
       "        0.        , 0.        , 0.        , 0.        , 0.        ,\n",
       "        0.        , 0.        , 0.        , 0.        , 0.        ,\n",
       "        0.        , 0.        , 0.        , 0.        , 0.        ]),\n",
       " 'power_at_peaks': array([0.00670849, 0.00575052, 0.        , 0.        , 0.        ,\n",
       "        0.        , 0.        , 0.        , 0.        , 0.        ,\n",
       "        0.        , 0.        , 0.        , 0.        , 0.        ,\n",
       "        0.        , 0.        , 0.        , 0.        , 0.        ,\n",
       "        0.        , 0.        , 0.        , 0.        , 0.        ]),\n",
       " 'n_peaks': 2,\n",
       " 'ratio_of_power_at_high_v_low_freq': 2.614286024689913}"
      ]
     },
     "execution_count": 28,
     "metadata": {},
     "output_type": "execute_result"
    }
   ],
   "source": [
    "lc.stats"
   ]
  },
  {
   "attachments": {},
   "cell_type": "markdown",
   "id": "427acc80",
   "metadata": {},
   "source": [
    "You can also turn this into an Astropy table for aggregation with other lightcurves"
   ]
  },
  {
   "cell_type": "code",
   "execution_count": 29,
   "id": "efb3bf85",
   "metadata": {},
   "outputs": [
    {
     "data": {
      "text/html": [
       "<div><i>Table length=1</i>\n",
       "<table id=\"table139968798849536\" class=\"table-striped table-bordered table-condensed\">\n",
       "<thead><tr><th>name</th><th>rms</th><th>von_neumann_ratio</th><th>J_Stetson</th><th>max_power</th><th>freq_at_max_power</th><th>peak_freqs</th><th>power_at_peaks</th><th>n_peaks</th><th>ratio_of_power_at_high_v_low_freq</th></tr></thead>\n",
       "<thead><tr><th>str7</th><th>float32</th><th>float64</th><th>float64</th><th>float64</th><th>float64</th><th>float64[25]</th><th>float64[25]</th><th>int64</th><th>float64</th></tr></thead>\n",
       "<tr><td>NGC 419</td><td>0.9999983</td><td>0.00017164927292955188</td><td>0.6518914852746158</td><td>0.007725125075032853</td><td>1.2328467394420666</td><td>0.9770099572992255 .. 0.0</td><td>0.006708490384895873 .. 0.0</td><td>2</td><td>2.614286024689913</td></tr>\n",
       "</table></div>"
      ],
      "text/plain": [
       "<Table length=1>\n",
       "  name     rms    ... n_peaks ratio_of_power_at_high_v_low_freq\n",
       "  str7   float32  ...  int64               float64             \n",
       "------- --------- ... ------- ---------------------------------\n",
       "NGC 419 0.9999983 ...       2                 2.614286024689913"
      ]
     },
     "execution_count": 29,
     "metadata": {},
     "output_type": "execute_result"
    }
   ],
   "source": [
    "lc.get_stats_table(name=c.cluster_name)"
   ]
  },
  {
   "attachments": {},
   "cell_type": "markdown",
   "id": "6c5adb2f",
   "metadata": {},
   "source": [
    "## The Kitchen Sink"
   ]
  },
  {
   "attachments": {},
   "cell_type": "markdown",
   "id": "873da784",
   "metadata": {},
   "source": [
    "If you're in an instance in which you want to get every statistic for the lightcurve quickly, you can run them all **using default settings** as follows"
   ]
  },
  {
   "cell_type": "code",
   "execution_count": 34,
   "id": "9a7fad33",
   "metadata": {},
   "outputs": [
    {
     "data": {
      "text/plain": [
       "{'rms': 0.03631488075285084,\n",
       " 'von_neumann_ratio': 0.00017164927292955188,\n",
       " 'J_Stetson': 0.6518914852746158,\n",
       " 'max_power': 0.01619743375840398,\n",
       " 'freq_at_max_power': 0.9600000000000002,\n",
       " 'peak_freqs': array([0.96, 1.1 , 1.25, 0.  , 0.  , 0.  , 0.  , 0.  , 0.  , 0.  , 0.  ,\n",
       "        0.  , 0.  , 0.  , 0.  , 0.  , 0.  , 0.  , 0.  , 0.  , 0.  , 0.  ,\n",
       "        0.  , 0.  , 0.  ]),\n",
       " 'power_at_peaks': array([0.01268922, 0.00297482, 0.01128423, 0.        , 0.        ,\n",
       "        0.        , 0.        , 0.        , 0.        , 0.        ,\n",
       "        0.        , 0.        , 0.        , 0.        , 0.        ,\n",
       "        0.        , 0.        , 0.        , 0.        , 0.        ,\n",
       "        0.        , 0.        , 0.        , 0.        , 0.        ]),\n",
       " 'n_peaks': 3,\n",
       " 'ratio_of_power_at_high_v_low_freq': 1.9553476030324772,\n",
       " 'std': 0.00015886688,\n",
       " 'MAD': 0.000105917454,\n",
       " 'max_autocorrelation': 0.15670049925982307,\n",
       " 'time_of_max_autocorrelation': array([0.06944564]),\n",
       " 'skewness': -52.04516}"
      ]
     },
     "execution_count": 34,
     "metadata": {},
     "output_type": "execute_result"
    }
   ],
   "source": [
    "lc.get_stats_using_defaults()"
   ]
  },
  {
   "attachments": {},
   "cell_type": "markdown",
   "id": "6348a4f1",
   "metadata": {},
   "source": [
    "We recommend caution when using this function since the default settings may not be the best ones for you!\n",
    "\n",
    "Now when converting back to a table we can see _every_ statistic"
   ]
  },
  {
   "cell_type": "code",
   "execution_count": 35,
   "id": "3b25c7ec",
   "metadata": {},
   "outputs": [
    {
     "data": {
      "text/html": [
       "<div><i>Table length=1</i>\n",
       "<table id=\"table139968797055760\" class=\"table-striped table-bordered table-condensed\">\n",
       "<thead><tr><th>name</th><th>rms</th><th>von_neumann_ratio</th><th>J_Stetson</th><th>max_power</th><th>freq_at_max_power</th><th>peak_freqs</th><th>power_at_peaks</th><th>n_peaks</th><th>ratio_of_power_at_high_v_low_freq</th><th>std</th><th>MAD</th><th>max_autocorrelation</th><th>time_of_max_autocorrelation</th><th>skewness</th></tr></thead>\n",
       "<thead><tr><th>str7</th><th>float64</th><th>float64</th><th>float64</th><th>float64</th><th>float64</th><th>float64[25]</th><th>float64[25]</th><th>int64</th><th>float64</th><th>float32</th><th>float32</th><th>float64</th><th>float64[1]</th><th>float32</th></tr></thead>\n",
       "<tr><td>NGC 419</td><td>0.03631488075285084</td><td>0.00017164927292955188</td><td>0.6518914852746158</td><td>0.01619743375840398</td><td>0.9600000000000002</td><td>0.9600000000000002 .. 0.0</td><td>0.012689219386560755 .. 0.0</td><td>3</td><td>1.9553476030324772</td><td>0.00015886688</td><td>0.000105917454</td><td>0.15670049925982307</td><td>0.0694456417299989</td><td>-52.04516</td></tr>\n",
       "</table></div>"
      ],
      "text/plain": [
       "<Table length=1>\n",
       "  name          rms         ... time_of_max_autocorrelation  skewness\n",
       "  str7        float64       ...          float64[1]          float32 \n",
       "------- ------------------- ... --------------------------- ---------\n",
       "NGC 419 0.03631488075285084 ...          0.0694456417299989 -52.04516"
      ]
     },
     "execution_count": 35,
     "metadata": {},
     "output_type": "execute_result"
    }
   ],
   "source": [
    "lc.get_stats_table(name=c.cluster_name)"
   ]
  }
 ],
 "metadata": {
  "kernelspec": {
   "display_name": "Python 3 (ipykernel)",
   "language": "python",
   "name": "python3"
  },
  "language_info": {
   "codemirror_mode": {
    "name": "ipython",
    "version": 3
   },
   "file_extension": ".py",
   "mimetype": "text/x-python",
   "name": "python",
   "nbconvert_exporter": "python",
   "pygments_lexer": "ipython3",
   "version": "3.10.9"
  }
 },
 "nbformat": 4,
 "nbformat_minor": 5
}
