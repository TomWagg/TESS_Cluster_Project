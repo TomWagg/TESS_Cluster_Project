{
 "cells": [
  {
   "cell_type": "code",
   "execution_count": 1,
   "id": "61a6dc26",
   "metadata": {},
   "outputs": [
    {
     "name": "stderr",
     "output_type": "stream",
     "text": [
      "/Users/Tobin/opt/anaconda3/envs/elk/lib/python3.10/site-packages/lightkurve/config/__init__.py:119: UserWarning: The default Lightkurve cache directory, used by download(), etc., has been moved to /Users/Tobin/.lightkurve/cache. Please move all the files in the legacy directory /Users/Tobin/.lightkurve-cache to the new location and remove the legacy directory. Refer to https://docs.lightkurve.org/reference/config.html#default-cache-directory-migration for more information.\n",
      "  warnings.warn(\n"
     ]
    },
    {
     "name": "stdout",
     "output_type": "stream",
     "text": [
      "NGC 419 has 4 observations\n",
      "Starting Quality Tests for Observation: 0\n"
     ]
    },
    {
     "name": "stderr",
     "output_type": "stream",
     "text": [
      "100%|██████████████████████████████| 100/100 [00:02<00:00, 34.79it/s]\n"
     ]
    },
    {
     "name": "stdout",
     "output_type": "stream",
     "text": [
      "\u001b[0;32m  Passed Quality Tests \u001b[0m\n",
      "Starting Quality Tests for Observation: 1\n"
     ]
    },
    {
     "name": "stderr",
     "output_type": "stream",
     "text": [
      "100%|██████████████████████████████| 100/100 [00:02<00:00, 42.57it/s]\n"
     ]
    },
    {
     "name": "stdout",
     "output_type": "stream",
     "text": [
      "\u001b[0;32m  Passed Quality Tests \u001b[0m\n",
      "Starting Quality Tests for Observation: 2\n"
     ]
    },
    {
     "name": "stderr",
     "output_type": "stream",
     "text": [
      "100%|██████████████████████████████| 100/100 [00:03<00:00, 29.88it/s]\n"
     ]
    },
    {
     "name": "stdout",
     "output_type": "stream",
     "text": [
      "\u001b[0;32m  Passed Quality Tests \u001b[0m\n",
      "Starting Quality Tests for Observation: 3\n"
     ]
    },
    {
     "name": "stderr",
     "output_type": "stream",
     "text": [
      "100%|██████████████████████████████| 100/100 [00:09<00:00, 10.47it/s]\n"
     ]
    },
    {
     "name": "stdout",
     "output_type": "stream",
     "text": [
      "\u001b[0;32m  Passed Quality Tests \u001b[0m\n",
      "[<TESSCutLightcurve: TESS Sector 18, 1103 timesteps>, <TESSCutLightcurve: TESS Sector 24, 1224 timesteps>, <TESSCutLightcurve: TESS Sector 25, 1167 timesteps>, <TESSCutLightcurve: TESS Sector 58, 11692 timesteps>]\n"
     ]
    }
   ],
   "source": [
    "import astropy.units as u\n",
    "from elk.ensemble import EnsembleLC\n",
    "\n",
    "c = EnsembleLC(output_path=\"../../output\",\n",
    "               identifier='NGC 419',\n",
    "               location='23.58271, +61.1236',\n",
    "               radius=.046,\n",
    "               cluster_age=7.75,\n",
    "               spline_knots=5,\n",
    "               cutout_size=10,\n",
    "               debug=True,\n",
    "               verbose=True,\n",
    "               ignore_previous_downloads=True,\n",
    "               minimize_memory=False)\n",
    "\n",
    "c.lightcurves_summary_file()\n",
    "\n",
    "print(c.lcs)"
   ]
  }
 ],
 "metadata": {
  "kernelspec": {
   "display_name": "Python 3 (ipykernel)",
   "language": "python",
   "name": "python3"
  },
  "language_info": {
   "codemirror_mode": {
    "name": "ipython",
    "version": 3
   },
   "file_extension": ".py",
   "mimetype": "text/x-python",
   "name": "python",
   "nbconvert_exporter": "python",
   "pygments_lexer": "ipython3",
   "version": "3.10.9"
  }
 },
 "nbformat": 4,
 "nbformat_minor": 5
}
