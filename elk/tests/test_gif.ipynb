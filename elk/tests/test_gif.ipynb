{
 "cells": [
  {
   "cell_type": "code",
   "execution_count": 1,
   "id": "69102755",
   "metadata": {},
   "outputs": [
    {
     "name": "stderr",
     "output_type": "stream",
     "text": [
      "/Users/Tobin/opt/anaconda3/envs/elk/lib/python3.10/site-packages/lightkurve/config/__init__.py:119: UserWarning: The default Lightkurve cache directory, used by download(), etc., has been moved to /Users/Tobin/.lightkurve/cache. Please move all the files in the legacy directory /Users/Tobin/.lightkurve-cache to the new location and remove the legacy directory. Refer to https://docs.lightkurve.org/reference/config.html#default-cache-directory-migration for more information.\n",
      "  warnings.warn(\n"
     ]
    },
    {
     "name": "stdout",
     "output_type": "stream",
     "text": [
      "          MAIN_ID                 RA      ... Peak_Frequency\n",
      "                               \"h:m:s\"    ...               \n",
      "--------------------------- ------------- ... --------------\n",
      "Cl* NGC 7790      F      24 23 58 20.5797 ...           0.16\n",
      "                        ...           ... ...            ...\n",
      "            NGC  7790    65   23 58 13.22 ...           0.16\n",
      "            NGC  7790   161 23 58 07.0784 ...           0.16\n",
      "Length = 46 rows\n",
      "    MAIN_ID           RA      ... Peak_Frequency\n",
      "                   \"h:m:s\"    ...               \n",
      "--------------- ------------- ... --------------\n",
      "NGC  7790    61 23 58 18.0358 ...           0.22\n",
      "            ...           ... ...            ...\n",
      "NGC  7790   232    23 58 16.8 ...           0.22\n",
      "NGC  7790   272 23 58 20.0451 ...           0.22\n",
      "Length = 95 rows\n",
      "    MAIN_ID           RA      ... Peak_Frequency\n",
      "                   \"h:m:s\"    ...               \n",
      "--------------- ------------- ... --------------\n",
      "NGC  7790    61 23 58 18.0358 ...           0.28\n",
      "            ...           ... ...            ...\n",
      "NGC  7790    64 23 58 14.2667 ...           0.28\n",
      "NGC  7790    62 23 58 16.2986 ...           0.28\n",
      "Length = 82 rows\n",
      "    MAIN_ID           RA      ... Peak_Frequency\n",
      "                   \"h:m:s\"    ...               \n",
      "--------------- ------------- ... --------------\n",
      "NGC  7790   208 23 58 11.5176 ...           0.39\n",
      "            ...           ... ...            ...\n",
      "      V* CE Cas  23 58 09.313 ...           0.39\n",
      "    V* CE Cas B 23 58 09.1062 ...           0.39\n",
      "Length = 30 rows\n",
      "          MAIN_ID            ... Peak_Frequency\n",
      "                             ...               \n",
      "---------------------------- ... --------------\n",
      "             NGC  7790    55 ...           0.44\n",
      "                         ... ...            ...\n",
      "             NGC  7790   132 ...           0.44\n",
      "Gaia DR3 2011892462486215936 ...           0.44\n",
      "Length = 55 rows\n",
      "    MAIN_ID           RA      ... Peak_Frequency\n",
      "                   \"h:m:s\"    ...               \n",
      "--------------- ------------- ... --------------\n",
      "NGC  7790   214   23 58 04.67 ...           7.19\n",
      "            ...           ... ...            ...\n",
      "LS   I +60   63 23 58 07.3715 ...           7.19\n",
      "NGC  7790   207 23 58 05.5553 ...           7.19\n",
      "Length = 40 rows\n"
     ]
    },
    {
     "data": {
      "text/html": [
       "<img src=\"./NGC 7790_pixel_power_gif.gif\">"
      ],
      "text/plain": [
       "<IPython.core.display.HTML object>"
      ]
     },
     "execution_count": 1,
     "metadata": {},
     "output_type": "execute_result"
    }
   ],
   "source": [
    "from elk.lightcurve import TESSCutLightcurve\n",
    "import lightkurve as lk\n",
    "from time import time\n",
    "\n",
    "search_results = lk.search_tesscut('NGC 7790')\n",
    "\n",
    "#print(search_results[1])\n",
    "\n",
    "lc = TESSCutLightcurve(radius=2.9/60, lk_search_result=search_results[1], cutout_size=25,\n",
    "                       save_pixel_periodograms=True, progress_bar=False)\n",
    "\n",
    "lc.correct_lc()\n",
    "\n",
    "\n",
    "start = time()\n",
    "lc.diagnose_lc_periodogram('.', freq_bins='auto', identifier='NGC 7790')\n"
   ]
  },
  {
   "cell_type": "code",
   "execution_count": 2,
   "id": "b6459fe2",
   "metadata": {},
   "outputs": [
    {
     "data": {
      "text/plain": [
       "<SkyCoord (ICRS): (ra, dec) in deg\n",
       "    (359.59015591, 61.21866194)>"
      ]
     },
     "execution_count": 2,
     "metadata": {},
     "output_type": "execute_result"
    }
   ],
   "source": [
    "lc.tpfs.wcs.pixel_to_world(13,14)"
   ]
  },
  {
   "cell_type": "code",
   "execution_count": 3,
   "id": "0d539532",
   "metadata": {},
   "outputs": [
    {
     "name": "stdout",
     "output_type": "stream",
     "text": [
      "          MAIN_ID                 RA      ... Peak_Frequency\n",
      "                               \"h:m:s\"    ...               \n",
      "--------------------------- ------------- ... --------------\n",
      "Cl* NGC 7790      F      24 23 58 20.5797 ...           0.16\n",
      "                        ...           ... ...            ...\n",
      "            NGC  7790    65   23 58 13.22 ...           0.16\n",
      "            NGC  7790   161 23 58 07.0784 ...           0.16\n",
      "Length = 46 rows\n",
      "    MAIN_ID           RA      ... Peak_Frequency\n",
      "                   \"h:m:s\"    ...               \n",
      "--------------- ------------- ... --------------\n",
      "NGC  7790    61 23 58 18.0358 ...           0.22\n",
      "            ...           ... ...            ...\n",
      "NGC  7790   232    23 58 16.8 ...           0.22\n",
      "NGC  7790   272 23 58 20.0451 ...           0.22\n",
      "Length = 95 rows\n",
      "    MAIN_ID           RA      ... Peak_Frequency\n",
      "                   \"h:m:s\"    ...               \n",
      "--------------- ------------- ... --------------\n",
      "NGC  7790    61 23 58 18.0358 ...           0.28\n",
      "            ...           ... ...            ...\n",
      "NGC  7790    64 23 58 14.2667 ...           0.28\n",
      "NGC  7790    62 23 58 16.2986 ...           0.28\n",
      "Length = 82 rows\n",
      "    MAIN_ID           RA      ... Peak_Frequency\n",
      "                   \"h:m:s\"    ...               \n",
      "--------------- ------------- ... --------------\n",
      "NGC  7790   208 23 58 11.5176 ...           0.39\n",
      "            ...           ... ...            ...\n",
      "      V* CE Cas  23 58 09.313 ...           0.39\n",
      "    V* CE Cas B 23 58 09.1062 ...           0.39\n",
      "Length = 30 rows\n",
      "          MAIN_ID            ... Peak_Frequency\n",
      "                             ...               \n",
      "---------------------------- ... --------------\n",
      "             NGC  7790    55 ...           0.44\n",
      "                         ... ...            ...\n",
      "             NGC  7790   132 ...           0.44\n",
      "Gaia DR3 2011892462486215936 ...           0.44\n",
      "Length = 55 rows\n",
      "    MAIN_ID           RA      ... Peak_Frequency\n",
      "                   \"h:m:s\"    ...               \n",
      "--------------- ------------- ... --------------\n",
      "NGC  7790   214   23 58 04.67 ...           7.19\n",
      "            ...           ... ...            ...\n",
      "LS   I +60   63 23 58 07.3715 ...           7.19\n",
      "NGC  7790   207 23 58 05.5553 ...           7.19\n",
      "Length = 40 rows\n"
     ]
    },
    {
     "data": {
      "text/html": [
       "<img src=\"./NGC 7790_pixel_power_gif.gif\">"
      ],
      "text/plain": [
       "<IPython.core.display.HTML object>"
      ]
     },
     "execution_count": 3,
     "metadata": {},
     "output_type": "execute_result"
    }
   ],
   "source": [
    "lc.diagnose_lc_periodogram('.', freq_bins='auto', identifier='NGC 7790')"
   ]
  }
 ],
 "metadata": {
  "kernelspec": {
   "display_name": "Python 3 (ipykernel)",
   "language": "python",
   "name": "python3"
  },
  "language_info": {
   "codemirror_mode": {
    "name": "ipython",
    "version": 3
   },
   "file_extension": ".py",
   "mimetype": "text/x-python",
   "name": "python",
   "nbconvert_exporter": "python",
   "pygments_lexer": "ipython3",
   "version": "3.10.9"
  }
 },
 "nbformat": 4,
 "nbformat_minor": 5
}
