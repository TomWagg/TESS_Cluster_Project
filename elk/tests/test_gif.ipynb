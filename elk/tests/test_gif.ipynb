{
 "cells": [
  {
   "cell_type": "code",
   "execution_count": 1,
   "id": "3962cfe8",
   "metadata": {},
   "outputs": [
    {
     "name": "stderr",
     "output_type": "stream",
     "text": [
      "/Users/Tobin/opt/anaconda3/envs/elk/lib/python3.10/site-packages/lightkurve/config/__init__.py:119: UserWarning: The default Lightkurve cache directory, used by download(), etc., has been moved to /Users/Tobin/.lightkurve/cache. Please move all the files in the legacy directory /Users/Tobin/.lightkurve-cache to the new location and remove the legacy directory. Refer to https://docs.lightkurve.org/reference/config.html#default-cache-directory-migration for more information.\n",
      "  warnings.warn(\n"
     ]
    },
    {
     "data": {
      "text/plain": [
       "(<IPython.core.display.HTML object>,\n",
       " <Table length=258>\n",
       "           MAIN_ID           ... peak_upper\n",
       "                             ...           \n",
       "            str27            ...  float64  \n",
       " --------------------------- ... ----------\n",
       " Cl* NGC 7790      F      24 ...       0.19\n",
       "                         ... ...        ...\n",
       "             LS   I +60   63 ...       7.21)"
      ]
     },
     "execution_count": 1,
     "metadata": {},
     "output_type": "execute_result"
    }
   ],
   "source": [
    "from elk.lightcurve import TESSCutLightcurve\n",
    "import lightkurve as lk\n",
    "from time import time\n",
    "\n",
    "search_results = lk.search_tesscut('NGC 7790')\n",
    "\n",
    "#print(search_results[1])\n",
    "\n",
    "lc = TESSCutLightcurve(radius=2.9/60, lk_search_result=search_results[1], cutout_size=25,\n",
    "                       save_pixel_periodograms=True, progress_bar=False)\n",
    "\n",
    "lc.correct_lc()\n",
    "\n",
    "\n",
    "start = time()\n",
    "lc.diagnose_lc_periodogram('.', freq_bins='auto', identifier='NGC 7790')\n"
   ]
  }
 ],
 "metadata": {
  "kernelspec": {
   "display_name": "Python 3 (ipykernel)",
   "language": "python",
   "name": "python3"
  },
  "language_info": {
   "codemirror_mode": {
    "name": "ipython",
    "version": 3
   },
   "file_extension": ".py",
   "mimetype": "text/x-python",
   "name": "python",
   "nbconvert_exporter": "python",
   "pygments_lexer": "ipython3",
   "version": "3.10.9"
  }
 },
 "nbformat": 4,
 "nbformat_minor": 5
}
